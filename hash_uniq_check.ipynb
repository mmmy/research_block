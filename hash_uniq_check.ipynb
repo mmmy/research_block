{
 "cells": [
  {
   "cell_type": "code",
   "execution_count": 1,
   "metadata": {},
   "outputs": [],
   "source": [
    "import numpy as np\n",
    "import pandas as pd\n",
    "import matplotlib.pyplot as plt\n",
    "import hashlib\n",
    "from blocks import blocks"
   ]
  },
  {
   "cell_type": "code",
   "execution_count": 11,
   "metadata": {},
   "outputs": [
    {
     "name": "stdout",
     "output_type": "stream",
     "text": [
      "RangeIndex(start=0, stop=547897, step=1)\n",
      "Index(['height', 'time', 'hash', 'main_chain'], dtype='object')\n",
      "(547897, 4)\n",
      "        height        time                                               hash  \\\n",
      "547895  547895  1540856027  00000000000000000000b41e9cfa3c1725fdd5097fea6d...   \n",
      "547896  547896  1540856849  00000000000000000003187b2f3289c2ff1e26376eed7d...   \n",
      "\n",
      "        main_chain  \n",
      "547895        True  \n",
      "547896        True  \n"
     ]
    }
   ],
   "source": [
    "print(blocks.index)\n",
    "print(blocks.columns)\n",
    "print(blocks.shape)\n",
    "print(blocks.tail(2))"
   ]
  },
  {
   "cell_type": "code",
   "execution_count": 3,
   "metadata": {},
   "outputs": [],
   "source": [
    "hash_list = blocks.hash\n",
    "hash_set = set(hash_list)"
   ]
  },
  {
   "cell_type": "code",
   "execution_count": 5,
   "metadata": {},
   "outputs": [
    {
     "data": {
      "text/plain": [
       "True"
      ]
     },
     "execution_count": 5,
     "metadata": {},
     "output_type": "execute_result"
    }
   ],
   "source": [
    "#是否每一个hash唯一\n",
    "len(hash_list) == len(hash_set)"
   ]
  },
  {
   "cell_type": "code",
   "execution_count": 4,
   "metadata": {},
   "outputs": [],
   "source": [
    "hash_hash_list = [hashlib.sha256(h.encode('utf-8')).hexdigest() for h in hash_list]\n",
    "hash_hash_set = set(hash_hash_list)"
   ]
  },
  {
   "cell_type": "code",
   "execution_count": 6,
   "metadata": {},
   "outputs": [
    {
     "data": {
      "text/plain": [
       "True"
      ]
     },
     "execution_count": 6,
     "metadata": {},
     "output_type": "execute_result"
    }
   ],
   "source": [
    "len(hash_hash_list) == len(hash_hash_set)"
   ]
  },
  {
   "cell_type": "code",
   "execution_count": 8,
   "metadata": {},
   "outputs": [],
   "source": [
    "hash512_list = [hashlib.sha512(h.encode('utf-8')).hexdigest() for h in hash_list]\n",
    "hash512_set = set(hash512_list)"
   ]
  },
  {
   "cell_type": "code",
   "execution_count": 9,
   "metadata": {},
   "outputs": [
    {
     "data": {
      "text/plain": [
       "True"
      ]
     },
     "execution_count": 9,
     "metadata": {},
     "output_type": "execute_result"
    }
   ],
   "source": [
    "len(hash512_list) == len(hash512_set)"
   ]
  },
  {
   "cell_type": "code",
   "execution_count": null,
   "metadata": {},
   "outputs": [],
   "source": []
  }
 ],
 "metadata": {
  "kernelspec": {
   "display_name": "Python 3",
   "language": "python",
   "name": "python3"
  },
  "language_info": {
   "codemirror_mode": {
    "name": "ipython",
    "version": 3
   },
   "file_extension": ".py",
   "mimetype": "text/x-python",
   "name": "python",
   "nbconvert_exporter": "python",
   "pygments_lexer": "ipython3",
   "version": "3.6.6"
  }
 },
 "nbformat": 4,
 "nbformat_minor": 2
}
